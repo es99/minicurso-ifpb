{
 "cells": [
  {
   "cell_type": "code",
   "execution_count": 1,
   "metadata": {},
   "outputs": [],
   "source": [
    "import pandas as pd #importação da biblioteca Pandas e a apelidando como pd\n",
    "import matplotlib.pyplot as plt #importação da biblioteca 'matplotlib.pyplot' e a apelidando de plt (serve para geração de gráficos)\n",
    "import seaborn as sns #importação da biblioteca seaborn e a apelidando de sns, que serve também para geração de gráficos"
   ]
  },
  {
   "cell_type": "code",
   "execution_count": 2,
   "metadata": {},
   "outputs": [],
   "source": [
    "dados = pd.read_csv('cor_raca_genero_aptos_pb.csv', delimiter=';', encoding='latin-1') #lendo os dados da planinha csv e salvando na variável dados"
   ]
  },
  {
   "cell_type": "code",
   "execution_count": 16,
   "metadata": {},
   "outputs": [
    {
     "data": {
      "text/html": [
       "<div>\n",
       "<style scoped>\n",
       "    .dataframe tbody tr th:only-of-type {\n",
       "        vertical-align: middle;\n",
       "    }\n",
       "\n",
       "    .dataframe tbody tr th {\n",
       "        vertical-align: top;\n",
       "    }\n",
       "\n",
       "    .dataframe thead th {\n",
       "        text-align: right;\n",
       "    }\n",
       "</style>\n",
       "<table border=\"1\" class=\"dataframe\">\n",
       "  <thead>\n",
       "    <tr style=\"text-align: right;\">\n",
       "      <th></th>\n",
       "      <th>UF</th>\n",
       "      <th>Cor/Raça</th>\n",
       "      <th>Gênero</th>\n",
       "      <th>Quantitativo</th>\n",
       "      <th>Porcentagem (%)</th>\n",
       "      <th>Unnamed: 5</th>\n",
       "    </tr>\n",
       "  </thead>\n",
       "  <tbody>\n",
       "    <tr>\n",
       "      <th>0</th>\n",
       "      <td>PB</td>\n",
       "      <td>Amarela</td>\n",
       "      <td>Feminino</td>\n",
       "      <td>2</td>\n",
       "      <td>66,67</td>\n",
       "      <td>NaN</td>\n",
       "    </tr>\n",
       "    <tr>\n",
       "      <th>1</th>\n",
       "      <td>PB</td>\n",
       "      <td>Amarela</td>\n",
       "      <td>Masculino</td>\n",
       "      <td>1</td>\n",
       "      <td>33,33</td>\n",
       "      <td>NaN</td>\n",
       "    </tr>\n",
       "    <tr>\n",
       "      <th>2</th>\n",
       "      <td>PB</td>\n",
       "      <td>Branca</td>\n",
       "      <td>Feminino</td>\n",
       "      <td>87</td>\n",
       "      <td>30,31</td>\n",
       "      <td>NaN</td>\n",
       "    </tr>\n",
       "    <tr>\n",
       "      <th>3</th>\n",
       "      <td>PB</td>\n",
       "      <td>Branca</td>\n",
       "      <td>Masculino</td>\n",
       "      <td>200</td>\n",
       "      <td>69,69</td>\n",
       "      <td>NaN</td>\n",
       "    </tr>\n",
       "    <tr>\n",
       "      <th>4</th>\n",
       "      <td>PB</td>\n",
       "      <td>Indígena</td>\n",
       "      <td>Feminino</td>\n",
       "      <td>1</td>\n",
       "      <td>100,00</td>\n",
       "      <td>NaN</td>\n",
       "    </tr>\n",
       "  </tbody>\n",
       "</table>\n",
       "</div>"
      ],
      "text/plain": [
       "   UF  Cor/Raça     Gênero  Quantitativo Porcentagem (%)  Unnamed: 5\n",
       "0  PB   Amarela   Feminino             2           66,67         NaN\n",
       "1  PB   Amarela  Masculino             1           33,33         NaN\n",
       "2  PB    Branca   Feminino            87           30,31         NaN\n",
       "3  PB    Branca  Masculino           200           69,69         NaN\n",
       "4  PB  Indígena   Feminino             1          100,00         NaN"
      ]
     },
     "execution_count": 16,
     "metadata": {},
     "output_type": "execute_result"
    }
   ],
   "source": [
    "dados.head() #obtendo os 5 primeiros resultados do dataset, através do método head"
   ]
  },
  {
   "cell_type": "code",
   "execution_count": 18,
   "metadata": {},
   "outputs": [],
   "source": [
    "dados.drop(['UF', 'Porcentagem (%)', 'Unnamed: 5'], axis=1, inplace = True) #retirando algumas colunas que não serão utilizadas."
   ]
  },
  {
   "cell_type": "code",
   "execution_count": 20,
   "metadata": {},
   "outputs": [
    {
     "data": {
      "text/html": [
       "<div>\n",
       "<style scoped>\n",
       "    .dataframe tbody tr th:only-of-type {\n",
       "        vertical-align: middle;\n",
       "    }\n",
       "\n",
       "    .dataframe tbody tr th {\n",
       "        vertical-align: top;\n",
       "    }\n",
       "\n",
       "    .dataframe thead th {\n",
       "        text-align: right;\n",
       "    }\n",
       "</style>\n",
       "<table border=\"1\" class=\"dataframe\">\n",
       "  <thead>\n",
       "    <tr style=\"text-align: right;\">\n",
       "      <th></th>\n",
       "      <th>Cor/Raça</th>\n",
       "      <th>Gênero</th>\n",
       "      <th>Quantitativo</th>\n",
       "    </tr>\n",
       "  </thead>\n",
       "  <tbody>\n",
       "    <tr>\n",
       "      <th>0</th>\n",
       "      <td>Amarela</td>\n",
       "      <td>Feminino</td>\n",
       "      <td>2</td>\n",
       "    </tr>\n",
       "    <tr>\n",
       "      <th>1</th>\n",
       "      <td>Amarela</td>\n",
       "      <td>Masculino</td>\n",
       "      <td>1</td>\n",
       "    </tr>\n",
       "    <tr>\n",
       "      <th>2</th>\n",
       "      <td>Branca</td>\n",
       "      <td>Feminino</td>\n",
       "      <td>87</td>\n",
       "    </tr>\n",
       "    <tr>\n",
       "      <th>3</th>\n",
       "      <td>Branca</td>\n",
       "      <td>Masculino</td>\n",
       "      <td>200</td>\n",
       "    </tr>\n",
       "    <tr>\n",
       "      <th>4</th>\n",
       "      <td>Indígena</td>\n",
       "      <td>Feminino</td>\n",
       "      <td>1</td>\n",
       "    </tr>\n",
       "    <tr>\n",
       "      <th>5</th>\n",
       "      <td>Parda</td>\n",
       "      <td>Feminino</td>\n",
       "      <td>58</td>\n",
       "    </tr>\n",
       "    <tr>\n",
       "      <th>6</th>\n",
       "      <td>Parda</td>\n",
       "      <td>Masculino</td>\n",
       "      <td>152</td>\n",
       "    </tr>\n",
       "    <tr>\n",
       "      <th>7</th>\n",
       "      <td>Preta</td>\n",
       "      <td>Feminino</td>\n",
       "      <td>14</td>\n",
       "    </tr>\n",
       "    <tr>\n",
       "      <th>8</th>\n",
       "      <td>Preta</td>\n",
       "      <td>Masculino</td>\n",
       "      <td>30</td>\n",
       "    </tr>\n",
       "  </tbody>\n",
       "</table>\n",
       "</div>"
      ],
      "text/plain": [
       "   Cor/Raça     Gênero  Quantitativo\n",
       "0   Amarela   Feminino             2\n",
       "1   Amarela  Masculino             1\n",
       "2    Branca   Feminino            87\n",
       "3    Branca  Masculino           200\n",
       "4  Indígena   Feminino             1\n",
       "5     Parda   Feminino            58\n",
       "6     Parda  Masculino           152\n",
       "7     Preta   Feminino            14\n",
       "8     Preta  Masculino            30"
      ]
     },
     "execution_count": 20,
     "metadata": {},
     "output_type": "execute_result"
    }
   ],
   "source": [
    "dados #dados mais limpos após a retirada de 3 colunas"
   ]
  },
  {
   "cell_type": "code",
   "execution_count": 33,
   "metadata": {},
   "outputs": [
    {
     "data": {
      "text/plain": [
       "Text(0.5, 1.0, 'Gênero por Cor/Raça - Candidatos - Paraíba - 1º Turno - 2018')"
      ]
     },
     "execution_count": 33,
     "metadata": {},
     "output_type": "execute_result"
    },
    {
     "data": {
      "image/png": "[encoded data removed]",
      "text/plain": [
       "<Figure size 806x360 with 1 Axes>"
      ]
     },
     "metadata": {
      "needs_background": "light"
     },
     "output_type": "display_data"
    }
   ],
   "source": [
    "sns.catplot('Cor/Raça', 'Quantitativo', 'Gênero', data=dados, kind='bar', palette='muted', aspect=2) #geração do gráfico a partir da biblioteca seaborn (sns)\n",
    "plt.title('Gênero por Cor/Raça - Candidatos - Paraíba - 1º Turno - 2018') #título do gráfico através da bibliotec matplotlib.pyplot (plt)"
   ]
  },
  {
   "cell_type": "code",
   "execution_count": null,
   "metadata": {},
   "outputs": [],
   "source": []
  }
 ],
 "metadata": {
  "kernelspec": {
   "display_name": "Python 3",
   "language": "python",
   "name": "python3"
  },
  "language_info": {
   "codemirror_mode": {
    "name": "ipython",
    "version": 3
   },
   "file_extension": ".py",
   "mimetype": "text/x-python",
   "name": "python",
   "nbconvert_exporter": "python",
   "pygments_lexer": "ipython3",
   "version": "3.6.5"
  }
 },
 "nbformat": 4,
 "nbformat_minor": 2
}
